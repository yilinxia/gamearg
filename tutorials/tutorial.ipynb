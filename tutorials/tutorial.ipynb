{
 "cells": [
  {
   "cell_type": "markdown",
   "id": "58534eb3-413f-4ba3-ac01-bf96d564b15d",
   "metadata": {},
   "source": [
    "### Package Import"
   ]
  },
  {
   "cell_type": "code",
   "execution_count": 1,
   "id": "5fc87f85-6917-45e8-81d9-7df9eaa01351",
   "metadata": {},
   "outputs": [],
   "source": [
    "import gamearg as gmg"
   ]
  },
  {
   "cell_type": "markdown",
   "id": "ebe109af-4a77-4f99-b0dd-063f19a6c515",
   "metadata": {},
   "source": [
    "### Create GameArgInput"
   ]
  },
  {
   "cell_type": "markdown",
   "id": "b1d1f7b3-7b19-4717-9921-d0195313c79d",
   "metadata": {},
   "source": [
    "**Note:** You can choose only one unique predicate name here, otherwise you will get an error (see the example below)"
   ]
  },
  {
   "cell_type": "code",
   "execution_count": 2,
   "id": "5dd0fef6-d4fa-486f-a9ad-f033784995cf",
   "metadata": {},
   "outputs": [
    {
     "name": "stdout",
     "output_type": "stream",
     "text": [
      "Overwriting files/tutorial.lp\n"
     ]
    }
   ],
   "source": [
    "%%file files/tutorial.lp\n",
    "edge(a,b).\n",
    "adge(a,c)."
   ]
  },
  {
   "cell_type": "code",
   "execution_count": 3,
   "id": "0a86bf6f-41e4-4235-a50f-b103714c3aab",
   "metadata": {},
   "outputs": [
    {
     "ename": "Exception",
     "evalue": "Expected exactly one unique predicate in the input file, found 2: {'edge', 'adge'}",
     "output_type": "error",
     "traceback": [
      "\u001b[0;31m---------------------------------------------------------------------------\u001b[0m",
      "\u001b[0;31mException\u001b[0m                                 Traceback (most recent call last)",
      "Cell \u001b[0;32mIn[3], line 1\u001b[0m\n\u001b[0;32m----> 1\u001b[0m gmg_input \u001b[38;5;241m=\u001b[39m \u001b[43mgmg\u001b[49m\u001b[38;5;241;43m.\u001b[39;49m\u001b[43mGameArgInput\u001b[49m\u001b[43m(\u001b[49m\u001b[43minput_file\u001b[49m\u001b[38;5;241;43m=\u001b[39;49m\u001b[38;5;124;43m\"\u001b[39;49m\u001b[38;5;124;43mfiles/tutorial.lp\u001b[39;49m\u001b[38;5;124;43m\"\u001b[39;49m\u001b[43m,\u001b[49m\u001b[43m \u001b[49m\u001b[43mkeyword\u001b[49m\u001b[38;5;241;43m=\u001b[39;49m\u001b[38;5;124;43m\"\u001b[39;49m\u001b[38;5;124;43mgame\u001b[39;49m\u001b[38;5;124;43m\"\u001b[39;49m\u001b[43m,\u001b[49m\u001b[43m \u001b[49m\u001b[43mreverse\u001b[49m\u001b[38;5;241;43m=\u001b[39;49m\u001b[38;5;28;43;01mFalse\u001b[39;49;00m\u001b[43m)\u001b[49m\n",
      "File \u001b[0;32m~/gamearg/src/gamearg/gamearg.py:20\u001b[0m, in \u001b[0;36mGameArgInput.__init__\u001b[0;34m(self, input_file, keyword, reverse)\u001b[0m\n\u001b[1;32m     18\u001b[0m \u001b[38;5;28mself\u001b[39m\u001b[38;5;241m.\u001b[39mreverse \u001b[38;5;241m=\u001b[39m reverse\n\u001b[1;32m     19\u001b[0m \u001b[38;5;28mself\u001b[39m\u001b[38;5;241m.\u001b[39mschema \u001b[38;5;241m=\u001b[39m \u001b[38;5;28mself\u001b[39m\u001b[38;5;241m.\u001b[39m_load_schema()\n\u001b[0;32m---> 20\u001b[0m \u001b[38;5;28mself\u001b[39m\u001b[38;5;241m.\u001b[39mpred_name \u001b[38;5;241m=\u001b[39m \u001b[38;5;28;43mself\u001b[39;49m\u001b[38;5;241;43m.\u001b[39;49m\u001b[43m_get_pred_name\u001b[49m\u001b[43m(\u001b[49m\u001b[43m)\u001b[49m\n\u001b[1;32m     21\u001b[0m (\n\u001b[1;32m     22\u001b[0m     \u001b[38;5;28mself\u001b[39m\u001b[38;5;241m.\u001b[39mstatus_1,\n\u001b[1;32m     23\u001b[0m     \u001b[38;5;28mself\u001b[39m\u001b[38;5;241m.\u001b[39mstatus_2,\n\u001b[1;32m     24\u001b[0m     \u001b[38;5;28mself\u001b[39m\u001b[38;5;241m.\u001b[39mstatus_3,\n\u001b[1;32m     25\u001b[0m ) \u001b[38;5;241m=\u001b[39m \u001b[38;5;28mself\u001b[39m\u001b[38;5;241m.\u001b[39m_extract_status()\n\u001b[1;32m     26\u001b[0m \u001b[38;5;28mself\u001b[39m\u001b[38;5;241m.\u001b[39mfacts_prep \u001b[38;5;241m=\u001b[39m \u001b[38;5;28mself\u001b[39m\u001b[38;5;241m.\u001b[39m_facts_prep()\n",
      "File \u001b[0;32m~/gamearg/src/gamearg/gamearg.py:49\u001b[0m, in \u001b[0;36mGameArgInput._get_pred_name\u001b[0;34m(self)\u001b[0m\n\u001b[1;32m     47\u001b[0m     \u001b[38;5;28;01mreturn\u001b[39;00m pred_name\u001b[38;5;241m.\u001b[39mpop()\n\u001b[1;32m     48\u001b[0m \u001b[38;5;28;01melse\u001b[39;00m:\n\u001b[0;32m---> 49\u001b[0m     \u001b[38;5;28;01mraise\u001b[39;00m \u001b[38;5;167;01mException\u001b[39;00m(\n\u001b[1;32m     50\u001b[0m         \u001b[38;5;124m\"\u001b[39m\u001b[38;5;124mExpected exactly one unique predicate in the input file, found \u001b[39m\u001b[38;5;132;01m{}\u001b[39;00m\u001b[38;5;124m: \u001b[39m\u001b[38;5;132;01m{}\u001b[39;00m\u001b[38;5;124m\"\u001b[39m\u001b[38;5;241m.\u001b[39mformat(\n\u001b[1;32m     51\u001b[0m             \u001b[38;5;28mlen\u001b[39m(pred_name), pred_name\n\u001b[1;32m     52\u001b[0m         )\n\u001b[1;32m     53\u001b[0m     )\n",
      "\u001b[0;31mException\u001b[0m: Expected exactly one unique predicate in the input file, found 2: {'edge', 'adge'}"
     ]
    }
   ],
   "source": [
    "gmg_input = gmg.GameArgInput(input_file=\"files/tutorial.lp\", keyword=\"game\", reverse=False)"
   ]
  },
  {
   "cell_type": "code",
   "execution_count": 5,
   "id": "4e4ff0a5-51cf-46e3-883b-3e455013fde8",
   "metadata": {},
   "outputs": [
    {
     "name": "stdout",
     "output_type": "stream",
     "text": [
      "Overwriting files/tutorial.lp\n"
     ]
    }
   ],
   "source": [
    "%%file files/tutorial.lp\n",
    "gamearg(a,b).\n",
    "gamearg(a,c)."
   ]
  },
  {
   "cell_type": "code",
   "execution_count": 6,
   "id": "b6a8c238-5005-4cbe-bf53-e1c760db8949",
   "metadata": {},
   "outputs": [],
   "source": [
    "gmg_input = gmg.GameArgInput(input_file=\"files/tutorial.lp\", keyword=\"game\", reverse=False)"
   ]
  },
  {
   "cell_type": "markdown",
   "id": "1dab042c-73ef-4045-bbc5-3a492f327130",
   "metadata": {},
   "source": [
    "### GameArgInput"
   ]
  },
  {
   "cell_type": "markdown",
   "id": "7ce47b66-b081-4fb8-9b1f-2c43ecc819ee",
   "metadata": {},
   "source": [
    "After creating the GameArgInput, you can access the edge_df and other attributes"
   ]
  },
  {
   "cell_type": "code",
   "execution_count": 7,
   "id": "d7e8633b-db7a-4787-a3cd-027af3721967",
   "metadata": {},
   "outputs": [
    {
     "data": {
      "text/html": [
       "<div>\n",
       "<style scoped>\n",
       "    .dataframe tbody tr th:only-of-type {\n",
       "        vertical-align: middle;\n",
       "    }\n",
       "\n",
       "    .dataframe tbody tr th {\n",
       "        vertical-align: top;\n",
       "    }\n",
       "\n",
       "    .dataframe thead th {\n",
       "        text-align: right;\n",
       "    }\n",
       "</style>\n",
       "<table border=\"1\" class=\"dataframe\">\n",
       "  <thead>\n",
       "    <tr style=\"text-align: right;\">\n",
       "      <th></th>\n",
       "      <th>source</th>\n",
       "      <th>target</th>\n",
       "      <th>direction</th>\n",
       "    </tr>\n",
       "  </thead>\n",
       "  <tbody>\n",
       "    <tr>\n",
       "      <th>0</th>\n",
       "      <td>a</td>\n",
       "      <td>b</td>\n",
       "      <td>forward</td>\n",
       "    </tr>\n",
       "    <tr>\n",
       "      <th>1</th>\n",
       "      <td>a</td>\n",
       "      <td>c</td>\n",
       "      <td>forward</td>\n",
       "    </tr>\n",
       "  </tbody>\n",
       "</table>\n",
       "</div>"
      ],
      "text/plain": [
       "  source target direction\n",
       "0      a      b   forward\n",
       "1      a      c   forward"
      ]
     },
     "execution_count": 7,
     "metadata": {},
     "output_type": "execute_result"
    }
   ],
   "source": [
    "gmg_input.edge_df"
   ]
  },
  {
   "cell_type": "markdown",
   "id": "02caeb04-8295-471e-aeac-b7716fd58c50",
   "metadata": {},
   "source": [
    "### WfsModel"
   ]
  },
  {
   "cell_type": "markdown",
   "id": "22c3952b-7585-4130-bf8a-349990e0fcf9",
   "metadata": {},
   "source": [
    "You can choose two ways to generate the wfsmodel from a file 1) create GameArgInput first, then WfsModel 2) directly call WfsModel without creating GameArgInput "
   ]
  },
  {
   "cell_type": "code",
   "execution_count": 8,
   "id": "028051ee-6557-4df2-9b33-e8f562003369",
   "metadata": {},
   "outputs": [
    {
     "name": "stdout",
     "output_type": "stream",
     "text": [
      "Overwriting files/tutorial_1.lp\n"
     ]
    }
   ],
   "source": [
    "%%file files/tutorial_1.lp\n",
    "edge(a,b).\n",
    "edge(a,c).\n",
    "edge(c,b)."
   ]
  },
  {
   "cell_type": "code",
   "execution_count": 9,
   "id": "a2f2b381-6958-4bc3-8ea5-cf649c8cfd3e",
   "metadata": {},
   "outputs": [
    {
     "data": {
      "text/html": [
       "<div>\n",
       "<style scoped>\n",
       "    .dataframe tbody tr th:only-of-type {\n",
       "        vertical-align: middle;\n",
       "    }\n",
       "\n",
       "    .dataframe tbody tr th {\n",
       "        vertical-align: top;\n",
       "    }\n",
       "\n",
       "    .dataframe thead th {\n",
       "        text-align: right;\n",
       "    }\n",
       "</style>\n",
       "<table border=\"1\" class=\"dataframe\">\n",
       "  <thead>\n",
       "    <tr style=\"text-align: right;\">\n",
       "      <th></th>\n",
       "      <th>node</th>\n",
       "      <th>state_id</th>\n",
       "      <th>wfs</th>\n",
       "    </tr>\n",
       "  </thead>\n",
       "  <tbody>\n",
       "    <tr>\n",
       "      <th>2</th>\n",
       "      <td>b</td>\n",
       "      <td>0</td>\n",
       "      <td>lost</td>\n",
       "    </tr>\n",
       "    <tr>\n",
       "      <th>0</th>\n",
       "      <td>c</td>\n",
       "      <td>1</td>\n",
       "      <td>won</td>\n",
       "    </tr>\n",
       "    <tr>\n",
       "      <th>1</th>\n",
       "      <td>a</td>\n",
       "      <td>1</td>\n",
       "      <td>won</td>\n",
       "    </tr>\n",
       "  </tbody>\n",
       "</table>\n",
       "</div>"
      ],
      "text/plain": [
       "  node state_id   wfs\n",
       "2    b        0  lost\n",
       "0    c        1   won\n",
       "1    a        1   won"
      ]
     },
     "execution_count": 9,
     "metadata": {},
     "output_type": "execute_result"
    }
   ],
   "source": [
    "gmg_input = gmg.GameArgInput(input_file=\"files/tutorial_1.lp\", keyword=\"game\", reverse=False)\n",
    "wfs = gmg.WfsModel(gmg_input)\n",
    "wfs.wfs_node"
   ]
  },
  {
   "cell_type": "code",
   "execution_count": 10,
   "id": "078d1945-902f-4220-8226-23e05c9b6015",
   "metadata": {},
   "outputs": [
    {
     "name": "stdout",
     "output_type": "stream",
     "text": [
      "Overwriting files/tutorial_2.lp\n"
     ]
    }
   ],
   "source": [
    "%%file files/tutorial_2.lp\n",
    "move(a,c).\n",
    "move(b,c).\n",
    "move(c,d1).\n",
    "move(c,d2).\n",
    "move(d1,d2)."
   ]
  },
  {
   "cell_type": "code",
   "execution_count": 11,
   "id": "8f02452a-58dc-421f-9e5c-f3b3956108cc",
   "metadata": {},
   "outputs": [
    {
     "data": {
      "text/html": [
       "<div>\n",
       "<style scoped>\n",
       "    .dataframe tbody tr th:only-of-type {\n",
       "        vertical-align: middle;\n",
       "    }\n",
       "\n",
       "    .dataframe tbody tr th {\n",
       "        vertical-align: top;\n",
       "    }\n",
       "\n",
       "    .dataframe thead th {\n",
       "        text-align: right;\n",
       "    }\n",
       "</style>\n",
       "<table border=\"1\" class=\"dataframe\">\n",
       "  <thead>\n",
       "    <tr style=\"text-align: right;\">\n",
       "      <th></th>\n",
       "      <th>node</th>\n",
       "      <th>state_id</th>\n",
       "      <th>wfs</th>\n",
       "    </tr>\n",
       "  </thead>\n",
       "  <tbody>\n",
       "    <tr>\n",
       "      <th>2</th>\n",
       "      <td>d2</td>\n",
       "      <td>0</td>\n",
       "      <td>lost</td>\n",
       "    </tr>\n",
       "    <tr>\n",
       "      <th>0</th>\n",
       "      <td>d1</td>\n",
       "      <td>1</td>\n",
       "      <td>won</td>\n",
       "    </tr>\n",
       "    <tr>\n",
       "      <th>1</th>\n",
       "      <td>c</td>\n",
       "      <td>1</td>\n",
       "      <td>won</td>\n",
       "    </tr>\n",
       "    <tr>\n",
       "      <th>3</th>\n",
       "      <td>a</td>\n",
       "      <td>2</td>\n",
       "      <td>lost</td>\n",
       "    </tr>\n",
       "    <tr>\n",
       "      <th>4</th>\n",
       "      <td>b</td>\n",
       "      <td>2</td>\n",
       "      <td>lost</td>\n",
       "    </tr>\n",
       "  </tbody>\n",
       "</table>\n",
       "</div>"
      ],
      "text/plain": [
       "  node state_id   wfs\n",
       "2   d2        0  lost\n",
       "0   d1        1   won\n",
       "1    c        1   won\n",
       "3    a        2  lost\n",
       "4    b        2  lost"
      ]
     },
     "execution_count": 11,
     "metadata": {},
     "output_type": "execute_result"
    }
   ],
   "source": [
    "wfs = gmg.WfsModel(input_file=\"files/tutorial_2.lp\", keyword=\"game\", reverse=False)\n",
    "wfs.wfs_node"
   ]
  },
  {
   "cell_type": "markdown",
   "id": "44350f6f-34c5-485c-8c2c-8c1f6172e77a",
   "metadata": {},
   "source": [
    "### StbModel"
   ]
  },
  {
   "cell_type": "code",
   "execution_count": 12,
   "id": "e4e00353-011c-426a-9812-817f375241f2",
   "metadata": {},
   "outputs": [
    {
     "name": "stdout",
     "output_type": "stream",
     "text": [
      "Overwriting files/tutorial_3.lp\n"
     ]
    }
   ],
   "source": [
    "%%file files/tutorial_3.lp\n",
    "edge(a,b).\n",
    "edge(b,a).\n",
    "edge(b,c).\n",
    "edge(c,d).\n",
    "edge(e,c)."
   ]
  },
  {
   "cell_type": "code",
   "execution_count": 13,
   "id": "13723e68-cd0d-4d04-aa0f-64e3085be5a3",
   "metadata": {},
   "outputs": [],
   "source": [
    "stb = gmg.StbModel(input_file=\"files/tutorial_3.lp\", keyword=\"game\", reverse=False)"
   ]
  },
  {
   "cell_type": "code",
   "execution_count": 14,
   "id": "05a685b2-0f8e-4c6b-96f1-9e66e738f326",
   "metadata": {},
   "outputs": [
    {
     "data": {
      "text/html": [
       "<div>\n",
       "<style scoped>\n",
       "    .dataframe tbody tr th:only-of-type {\n",
       "        vertical-align: middle;\n",
       "    }\n",
       "\n",
       "    .dataframe tbody tr th {\n",
       "        vertical-align: top;\n",
       "    }\n",
       "\n",
       "    .dataframe thead th {\n",
       "        text-align: right;\n",
       "    }\n",
       "</style>\n",
       "<table border=\"1\" class=\"dataframe\">\n",
       "  <thead>\n",
       "    <tr style=\"text-align: right;\">\n",
       "      <th></th>\n",
       "      <th>node</th>\n",
       "      <th>pw_1</th>\n",
       "      <th>pw_2</th>\n",
       "    </tr>\n",
       "  </thead>\n",
       "  <tbody>\n",
       "    <tr>\n",
       "      <th>0</th>\n",
       "      <td>d</td>\n",
       "      <td>lost</td>\n",
       "      <td>lost</td>\n",
       "    </tr>\n",
       "    <tr>\n",
       "      <th>1</th>\n",
       "      <td>a</td>\n",
       "      <td>lost</td>\n",
       "      <td>won</td>\n",
       "    </tr>\n",
       "    <tr>\n",
       "      <th>2</th>\n",
       "      <td>b</td>\n",
       "      <td>won</td>\n",
       "      <td>lost</td>\n",
       "    </tr>\n",
       "    <tr>\n",
       "      <th>3</th>\n",
       "      <td>e</td>\n",
       "      <td>lost</td>\n",
       "      <td>lost</td>\n",
       "    </tr>\n",
       "    <tr>\n",
       "      <th>4</th>\n",
       "      <td>c</td>\n",
       "      <td>won</td>\n",
       "      <td>won</td>\n",
       "    </tr>\n",
       "  </tbody>\n",
       "</table>\n",
       "</div>"
      ],
      "text/plain": [
       "  node  pw_1  pw_2\n",
       "0    d  lost  lost\n",
       "1    a  lost   won\n",
       "2    b   won  lost\n",
       "3    e  lost  lost\n",
       "4    c   won   won"
      ]
     },
     "execution_count": 14,
     "metadata": {},
     "output_type": "execute_result"
    }
   ],
   "source": [
    "stb.stb_node"
   ]
  }
 ],
 "metadata": {
  "kernelspec": {
   "display_name": "Python 3 (ipykernel)",
   "language": "python",
   "name": "python3"
  },
  "language_info": {
   "codemirror_mode": {
    "name": "ipython",
    "version": 3
   },
   "file_extension": ".py",
   "mimetype": "text/x-python",
   "name": "python",
   "nbconvert_exporter": "python",
   "pygments_lexer": "ipython3",
   "version": "3.10.13"
  }
 },
 "nbformat": 4,
 "nbformat_minor": 5
}
